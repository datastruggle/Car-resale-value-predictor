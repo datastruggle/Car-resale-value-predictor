{
 "cells": [
  {
   "cell_type": "code",
   "execution_count": 154,
   "id": "d5f97c36",
   "metadata": {},
   "outputs": [],
   "source": [
    "# importing the necessary libraries\n",
    "import numpy as np\n",
    "import pandas as pd "
   ]
  },
  {
   "cell_type": "code",
   "execution_count": 155,
   "id": "2005a5f8",
   "metadata": {},
   "outputs": [],
   "source": [
    "raw_df = pd.read_csv('CAR DETAILS FROM CAR DEKHO.csv',encoding_errors='ignore')"
   ]
  },
  {
   "cell_type": "code",
   "execution_count": 156,
   "id": "6b5c089f",
   "metadata": {},
   "outputs": [
    {
     "data": {
      "text/html": [
       "<div>\n",
       "<style scoped>\n",
       "    .dataframe tbody tr th:only-of-type {\n",
       "        vertical-align: middle;\n",
       "    }\n",
       "\n",
       "    .dataframe tbody tr th {\n",
       "        vertical-align: top;\n",
       "    }\n",
       "\n",
       "    .dataframe thead th {\n",
       "        text-align: right;\n",
       "    }\n",
       "</style>\n",
       "<table border=\"1\" class=\"dataframe\">\n",
       "  <thead>\n",
       "    <tr style=\"text-align: right;\">\n",
       "      <th></th>\n",
       "      <th>name</th>\n",
       "      <th>year</th>\n",
       "      <th>selling_price</th>\n",
       "      <th>km_driven</th>\n",
       "      <th>fuel</th>\n",
       "      <th>seller_type</th>\n",
       "      <th>transmission</th>\n",
       "      <th>owner</th>\n",
       "    </tr>\n",
       "  </thead>\n",
       "  <tbody>\n",
       "    <tr>\n",
       "      <th>0</th>\n",
       "      <td>Maruti 800 AC</td>\n",
       "      <td>2007</td>\n",
       "      <td>60000</td>\n",
       "      <td>70000</td>\n",
       "      <td>Petrol</td>\n",
       "      <td>Individual</td>\n",
       "      <td>Manual</td>\n",
       "      <td>First Owner</td>\n",
       "    </tr>\n",
       "    <tr>\n",
       "      <th>1</th>\n",
       "      <td>Maruti Wagon R LXI Minor</td>\n",
       "      <td>2007</td>\n",
       "      <td>135000</td>\n",
       "      <td>50000</td>\n",
       "      <td>Petrol</td>\n",
       "      <td>Individual</td>\n",
       "      <td>Manual</td>\n",
       "      <td>First Owner</td>\n",
       "    </tr>\n",
       "    <tr>\n",
       "      <th>2</th>\n",
       "      <td>Hyundai Verna 1.6 SX</td>\n",
       "      <td>2012</td>\n",
       "      <td>600000</td>\n",
       "      <td>100000</td>\n",
       "      <td>Diesel</td>\n",
       "      <td>Individual</td>\n",
       "      <td>Manual</td>\n",
       "      <td>First Owner</td>\n",
       "    </tr>\n",
       "    <tr>\n",
       "      <th>3</th>\n",
       "      <td>Datsun RediGO T Option</td>\n",
       "      <td>2017</td>\n",
       "      <td>250000</td>\n",
       "      <td>46000</td>\n",
       "      <td>Petrol</td>\n",
       "      <td>Individual</td>\n",
       "      <td>Manual</td>\n",
       "      <td>First Owner</td>\n",
       "    </tr>\n",
       "    <tr>\n",
       "      <th>4</th>\n",
       "      <td>Honda Amaze VX i-DTEC</td>\n",
       "      <td>2014</td>\n",
       "      <td>450000</td>\n",
       "      <td>141000</td>\n",
       "      <td>Diesel</td>\n",
       "      <td>Individual</td>\n",
       "      <td>Manual</td>\n",
       "      <td>Second Owner</td>\n",
       "    </tr>\n",
       "  </tbody>\n",
       "</table>\n",
       "</div>"
      ],
      "text/plain": [
       "                       name  year  selling_price  km_driven    fuel  \\\n",
       "0             Maruti 800 AC  2007          60000      70000  Petrol   \n",
       "1  Maruti Wagon R LXI Minor  2007         135000      50000  Petrol   \n",
       "2      Hyundai Verna 1.6 SX  2012         600000     100000  Diesel   \n",
       "3    Datsun RediGO T Option  2017         250000      46000  Petrol   \n",
       "4     Honda Amaze VX i-DTEC  2014         450000     141000  Diesel   \n",
       "\n",
       "  seller_type transmission         owner  \n",
       "0  Individual       Manual   First Owner  \n",
       "1  Individual       Manual   First Owner  \n",
       "2  Individual       Manual   First Owner  \n",
       "3  Individual       Manual   First Owner  \n",
       "4  Individual       Manual  Second Owner  "
      ]
     },
     "execution_count": 156,
     "metadata": {},
     "output_type": "execute_result"
    }
   ],
   "source": [
    "raw_df.head()"
   ]
  },
  {
   "cell_type": "code",
   "execution_count": 157,
   "id": "a2053747",
   "metadata": {},
   "outputs": [
    {
     "name": "stdout",
     "output_type": "stream",
     "text": [
      "<class 'pandas.core.frame.DataFrame'>\n",
      "RangeIndex: 4340 entries, 0 to 4339\n",
      "Data columns (total 8 columns):\n",
      " #   Column         Non-Null Count  Dtype \n",
      "---  ------         --------------  ----- \n",
      " 0   name           4340 non-null   object\n",
      " 1   year           4340 non-null   int64 \n",
      " 2   selling_price  4340 non-null   int64 \n",
      " 3   km_driven      4340 non-null   int64 \n",
      " 4   fuel           4340 non-null   object\n",
      " 5   seller_type    4340 non-null   object\n",
      " 6   transmission   4340 non-null   object\n",
      " 7   owner          4340 non-null   object\n",
      "dtypes: int64(3), object(5)\n",
      "memory usage: 271.4+ KB\n"
     ]
    }
   ],
   "source": [
    "\n",
    "raw_df.info()"
   ]
  },
  {
   "cell_type": "code",
   "execution_count": 158,
   "id": "0fae4111",
   "metadata": {},
   "outputs": [
    {
     "data": {
      "text/plain": [
       "name             0\n",
       "year             0\n",
       "selling_price    0\n",
       "km_driven        0\n",
       "fuel             0\n",
       "seller_type      0\n",
       "transmission     0\n",
       "owner            0\n",
       "dtype: int64"
      ]
     },
     "execution_count": 158,
     "metadata": {},
     "output_type": "execute_result"
    }
   ],
   "source": [
    "# checking for null values\n",
    "raw_df.isnull().sum()"
   ]
  },
  {
   "cell_type": "code",
   "execution_count": 159,
   "id": "29a71d9e",
   "metadata": {},
   "outputs": [
    {
     "data": {
      "text/plain": [
       "4340"
      ]
     },
     "execution_count": 159,
     "metadata": {},
     "output_type": "execute_result"
    }
   ],
   "source": [
    "len(raw_df)"
   ]
  },
  {
   "cell_type": "code",
   "execution_count": 160,
   "id": "0a9ef870",
   "metadata": {
    "scrolled": true
   },
   "outputs": [
    {
     "name": "stdout",
     "output_type": "stream",
     "text": [
      "<class 'pandas.core.frame.DataFrame'>\n",
      "RangeIndex: 4340 entries, 0 to 4339\n",
      "Data columns (total 8 columns):\n",
      " #   Column         Non-Null Count  Dtype \n",
      "---  ------         --------------  ----- \n",
      " 0   name           4340 non-null   object\n",
      " 1   year           4340 non-null   int64 \n",
      " 2   selling_price  4340 non-null   int64 \n",
      " 3   km_driven      4340 non-null   int64 \n",
      " 4   fuel           4340 non-null   object\n",
      " 5   seller_type    4340 non-null   object\n",
      " 6   transmission   4340 non-null   object\n",
      " 7   owner          4340 non-null   object\n",
      "dtypes: int64(3), object(5)\n",
      "memory usage: 271.4+ KB\n"
     ]
    }
   ],
   "source": [
    "raw_df.info()"
   ]
  },
  {
   "cell_type": "code",
   "execution_count": 161,
   "id": "35161271",
   "metadata": {},
   "outputs": [
    {
     "data": {
      "text/plain": [
       "Index(['name', 'fuel', 'seller_type', 'transmission', 'owner'], dtype='object')"
      ]
     },
     "execution_count": 161,
     "metadata": {},
     "output_type": "execute_result"
    }
   ],
   "source": [
    "# now checking for cardinality for each of the unique elements in the categorical variables\n",
    "raw_df.select_dtypes(include = 'object').columns"
   ]
  },
  {
   "cell_type": "code",
   "execution_count": 162,
   "id": "2cb61c11",
   "metadata": {},
   "outputs": [
    {
     "data": {
      "text/plain": [
       "name\n",
       "Maruti Swift Dzire VDI                  69\n",
       "Maruti Alto 800 LXI                     59\n",
       "Maruti Alto LXi                         47\n",
       "Hyundai EON Era Plus                    35\n",
       "Maruti Alto LX                          35\n",
       "                                        ..\n",
       "Mahindra KUV 100 G80 K4 Plus             1\n",
       "Mahindra KUV 100 mFALCON D75 K8          1\n",
       "Mahindra KUV 100 mFALCON D75 K8 AW       1\n",
       "Mahindra KUV 100 mFALCON G80 K2 Plus     1\n",
       "Volvo XC60 D5 Inscription                1\n",
       "Length: 1491, dtype: int64"
      ]
     },
     "execution_count": 162,
     "metadata": {},
     "output_type": "execute_result"
    }
   ],
   "source": [
    "# checking for cardinality in name\n",
    "raw_df.value_counts('name')"
   ]
  },
  {
   "cell_type": "code",
   "execution_count": 163,
   "id": "e26c0944",
   "metadata": {},
   "outputs": [
    {
     "data": {
      "text/plain": [
       "Individual          3244\n",
       "Dealer               994\n",
       "Trustmark Dealer     102\n",
       "Name: seller_type, dtype: int64"
      ]
     },
     "execution_count": 163,
     "metadata": {},
     "output_type": "execute_result"
    }
   ],
   "source": [
    "# checking for cardinality in seller\n",
    "raw_df['seller_type'].value_counts()"
   ]
  },
  {
   "cell_type": "code",
   "execution_count": 164,
   "id": "9ea63002",
   "metadata": {},
   "outputs": [
    {
     "data": {
      "text/plain": [
       "Diesel      2153\n",
       "Petrol      2123\n",
       "CNG           40\n",
       "LPG           23\n",
       "Electric       1\n",
       "Name: fuel, dtype: int64"
      ]
     },
     "execution_count": 164,
     "metadata": {},
     "output_type": "execute_result"
    }
   ],
   "source": [
    "# checking for cardinality offerType  \n",
    "raw_df['fuel'].value_counts()"
   ]
  },
  {
   "cell_type": "code",
   "execution_count": 165,
   "id": "3b3af500",
   "metadata": {},
   "outputs": [
    {
     "data": {
      "text/plain": [
       "First Owner             2832\n",
       "Second Owner            1106\n",
       "Third Owner              304\n",
       "Fourth & Above Owner      81\n",
       "Test Drive Car            17\n",
       "Name: owner, dtype: int64"
      ]
     },
     "execution_count": 165,
     "metadata": {},
     "output_type": "execute_result"
    }
   ],
   "source": [
    "# checking for cardinality in transmission\n",
    "raw_df['owner'].value_counts()"
   ]
  },
  {
   "cell_type": "code",
   "execution_count": 166,
   "id": "b905e23a",
   "metadata": {},
   "outputs": [],
   "source": [
    "# splitting the data\n",
    "df_cat = raw_df[raw_df.select_dtypes(include = 'object').columns]\n",
    "df_cont = raw_df[raw_df.select_dtypes(exclude = 'object').columns]"
   ]
  },
  {
   "cell_type": "code",
   "execution_count": 167,
   "id": "0f714751",
   "metadata": {},
   "outputs": [
    {
     "data": {
      "text/plain": [
       "Index(['name', 'fuel', 'seller_type', 'transmission', 'owner'], dtype='object')"
      ]
     },
     "execution_count": 167,
     "metadata": {},
     "output_type": "execute_result"
    }
   ],
   "source": [
    "df_cat.columns"
   ]
  },
  {
   "cell_type": "code",
   "execution_count": 168,
   "id": "c77bcafd",
   "metadata": {},
   "outputs": [
    {
     "data": {
      "text/plain": [
       "Index(['year', 'selling_price', 'km_driven'], dtype='object')"
      ]
     },
     "execution_count": 168,
     "metadata": {},
     "output_type": "execute_result"
    }
   ],
   "source": [
    "df_cont.columns"
   ]
  },
  {
   "cell_type": "code",
   "execution_count": 169,
   "id": "e8a36008",
   "metadata": {},
   "outputs": [
    {
     "data": {
      "text/plain": [
       "2020"
      ]
     },
     "execution_count": 169,
     "metadata": {},
     "output_type": "execute_result"
    }
   ],
   "source": [
    "df_cont.year.max()"
   ]
  },
  {
   "cell_type": "code",
   "execution_count": 170,
   "id": "64a674f1",
   "metadata": {},
   "outputs": [
    {
     "data": {
      "text/plain": [
       "1992"
      ]
     },
     "execution_count": 170,
     "metadata": {},
     "output_type": "execute_result"
    }
   ],
   "source": [
    "df_cont.year.min()"
   ]
  },
  {
   "cell_type": "code",
   "execution_count": 171,
   "id": "2d2ae1b1",
   "metadata": {},
   "outputs": [
    {
     "data": {
      "text/plain": [
       "8900000"
      ]
     },
     "execution_count": 171,
     "metadata": {},
     "output_type": "execute_result"
    }
   ],
   "source": [
    "df_cont.selling_price.max()"
   ]
  },
  {
   "cell_type": "code",
   "execution_count": 172,
   "id": "d236cde2",
   "metadata": {
    "scrolled": true
   },
   "outputs": [
    {
     "data": {
      "text/plain": [
       "20000"
      ]
     },
     "execution_count": 172,
     "metadata": {},
     "output_type": "execute_result"
    }
   ],
   "source": [
    "df_cont.selling_price.min()"
   ]
  },
  {
   "cell_type": "code",
   "execution_count": 173,
   "id": "0fca8ab6",
   "metadata": {},
   "outputs": [
    {
     "data": {
      "text/plain": [
       "806599"
      ]
     },
     "execution_count": 173,
     "metadata": {},
     "output_type": "execute_result"
    }
   ],
   "source": [
    "df_cont.km_driven.max()"
   ]
  },
  {
   "cell_type": "code",
   "execution_count": 174,
   "id": "90ae7608",
   "metadata": {},
   "outputs": [
    {
     "data": {
      "text/plain": [
       "1"
      ]
     },
     "execution_count": 174,
     "metadata": {},
     "output_type": "execute_result"
    }
   ],
   "source": [
    "df_cont.km_driven.min()"
   ]
  },
  {
   "cell_type": "code",
   "execution_count": 175,
   "id": "73fc9844",
   "metadata": {},
   "outputs": [
    {
     "data": {
      "text/html": [
       "<div>\n",
       "<style scoped>\n",
       "    .dataframe tbody tr th:only-of-type {\n",
       "        vertical-align: middle;\n",
       "    }\n",
       "\n",
       "    .dataframe tbody tr th {\n",
       "        vertical-align: top;\n",
       "    }\n",
       "\n",
       "    .dataframe thead th {\n",
       "        text-align: right;\n",
       "    }\n",
       "</style>\n",
       "<table border=\"1\" class=\"dataframe\">\n",
       "  <thead>\n",
       "    <tr style=\"text-align: right;\">\n",
       "      <th></th>\n",
       "      <th>name</th>\n",
       "      <th>year</th>\n",
       "      <th>selling_price</th>\n",
       "      <th>km_driven</th>\n",
       "      <th>fuel</th>\n",
       "      <th>seller_type</th>\n",
       "      <th>transmission</th>\n",
       "      <th>owner</th>\n",
       "    </tr>\n",
       "  </thead>\n",
       "  <tbody>\n",
       "    <tr>\n",
       "      <th>1312</th>\n",
       "      <td>Mahindra Quanto C6</td>\n",
       "      <td>2014</td>\n",
       "      <td>250000</td>\n",
       "      <td>1</td>\n",
       "      <td>Diesel</td>\n",
       "      <td>Individual</td>\n",
       "      <td>Manual</td>\n",
       "      <td>Second Owner</td>\n",
       "    </tr>\n",
       "    <tr>\n",
       "      <th>1715</th>\n",
       "      <td>Ford Figo Titanium</td>\n",
       "      <td>2020</td>\n",
       "      <td>635000</td>\n",
       "      <td>101</td>\n",
       "      <td>Petrol</td>\n",
       "      <td>Dealer</td>\n",
       "      <td>Manual</td>\n",
       "      <td>Test Drive Car</td>\n",
       "    </tr>\n",
       "    <tr>\n",
       "      <th>1714</th>\n",
       "      <td>Ford Freestyle Titanium Diesel</td>\n",
       "      <td>2020</td>\n",
       "      <td>784000</td>\n",
       "      <td>101</td>\n",
       "      <td>Diesel</td>\n",
       "      <td>Dealer</td>\n",
       "      <td>Manual</td>\n",
       "      <td>Test Drive Car</td>\n",
       "    </tr>\n",
       "    <tr>\n",
       "      <th>1716</th>\n",
       "      <td>Ford Ecosport 1.5 Diesel Titanium</td>\n",
       "      <td>2020</td>\n",
       "      <td>1000000</td>\n",
       "      <td>101</td>\n",
       "      <td>Diesel</td>\n",
       "      <td>Dealer</td>\n",
       "      <td>Manual</td>\n",
       "      <td>Test Drive Car</td>\n",
       "    </tr>\n",
       "    <tr>\n",
       "      <th>1291</th>\n",
       "      <td>Maruti Alto 800 VXI</td>\n",
       "      <td>2020</td>\n",
       "      <td>350000</td>\n",
       "      <td>1000</td>\n",
       "      <td>Petrol</td>\n",
       "      <td>Individual</td>\n",
       "      <td>Manual</td>\n",
       "      <td>First Owner</td>\n",
       "    </tr>\n",
       "    <tr>\n",
       "      <th>...</th>\n",
       "      <td>...</td>\n",
       "      <td>...</td>\n",
       "      <td>...</td>\n",
       "      <td>...</td>\n",
       "      <td>...</td>\n",
       "      <td>...</td>\n",
       "      <td>...</td>\n",
       "      <td>...</td>\n",
       "    </tr>\n",
       "    <tr>\n",
       "      <th>2394</th>\n",
       "      <td>Toyota Innova 2.5 V Diesel 8-seater</td>\n",
       "      <td>2009</td>\n",
       "      <td>350000</td>\n",
       "      <td>350000</td>\n",
       "      <td>Diesel</td>\n",
       "      <td>Individual</td>\n",
       "      <td>Manual</td>\n",
       "      <td>First Owner</td>\n",
       "    </tr>\n",
       "    <tr>\n",
       "      <th>3679</th>\n",
       "      <td>Toyota Innova 2.5 G (Diesel) 7 Seater BS IV</td>\n",
       "      <td>2006</td>\n",
       "      <td>400000</td>\n",
       "      <td>400000</td>\n",
       "      <td>Diesel</td>\n",
       "      <td>Individual</td>\n",
       "      <td>Manual</td>\n",
       "      <td>Third Owner</td>\n",
       "    </tr>\n",
       "    <tr>\n",
       "      <th>4184</th>\n",
       "      <td>Maruti SX4 S Cross DDiS 320 Delta</td>\n",
       "      <td>2016</td>\n",
       "      <td>665000</td>\n",
       "      <td>560000</td>\n",
       "      <td>Diesel</td>\n",
       "      <td>Dealer</td>\n",
       "      <td>Manual</td>\n",
       "      <td>First Owner</td>\n",
       "    </tr>\n",
       "    <tr>\n",
       "      <th>525</th>\n",
       "      <td>Maruti SX4 S Cross DDiS 320 Delta</td>\n",
       "      <td>2016</td>\n",
       "      <td>665000</td>\n",
       "      <td>560000</td>\n",
       "      <td>Diesel</td>\n",
       "      <td>Dealer</td>\n",
       "      <td>Manual</td>\n",
       "      <td>First Owner</td>\n",
       "    </tr>\n",
       "    <tr>\n",
       "      <th>1243</th>\n",
       "      <td>Maruti Swift VXI BSIII</td>\n",
       "      <td>2009</td>\n",
       "      <td>250000</td>\n",
       "      <td>806599</td>\n",
       "      <td>Petrol</td>\n",
       "      <td>Dealer</td>\n",
       "      <td>Manual</td>\n",
       "      <td>First Owner</td>\n",
       "    </tr>\n",
       "  </tbody>\n",
       "</table>\n",
       "<p>4340 rows × 8 columns</p>\n",
       "</div>"
      ],
      "text/plain": [
       "                                             name  year  selling_price  \\\n",
       "1312                           Mahindra Quanto C6  2014         250000   \n",
       "1715                           Ford Figo Titanium  2020         635000   \n",
       "1714               Ford Freestyle Titanium Diesel  2020         784000   \n",
       "1716            Ford Ecosport 1.5 Diesel Titanium  2020        1000000   \n",
       "1291                          Maruti Alto 800 VXI  2020         350000   \n",
       "...                                           ...   ...            ...   \n",
       "2394          Toyota Innova 2.5 V Diesel 8-seater  2009         350000   \n",
       "3679  Toyota Innova 2.5 G (Diesel) 7 Seater BS IV  2006         400000   \n",
       "4184            Maruti SX4 S Cross DDiS 320 Delta  2016         665000   \n",
       "525             Maruti SX4 S Cross DDiS 320 Delta  2016         665000   \n",
       "1243                       Maruti Swift VXI BSIII  2009         250000   \n",
       "\n",
       "      km_driven    fuel seller_type transmission           owner  \n",
       "1312          1  Diesel  Individual       Manual    Second Owner  \n",
       "1715        101  Petrol      Dealer       Manual  Test Drive Car  \n",
       "1714        101  Diesel      Dealer       Manual  Test Drive Car  \n",
       "1716        101  Diesel      Dealer       Manual  Test Drive Car  \n",
       "1291       1000  Petrol  Individual       Manual     First Owner  \n",
       "...         ...     ...         ...          ...             ...  \n",
       "2394     350000  Diesel  Individual       Manual     First Owner  \n",
       "3679     400000  Diesel  Individual       Manual     Third Owner  \n",
       "4184     560000  Diesel      Dealer       Manual     First Owner  \n",
       "525      560000  Diesel      Dealer       Manual     First Owner  \n",
       "1243     806599  Petrol      Dealer       Manual     First Owner  \n",
       "\n",
       "[4340 rows x 8 columns]"
      ]
     },
     "execution_count": 175,
     "metadata": {},
     "output_type": "execute_result"
    }
   ],
   "source": [
    "raw_df.sort_values(by = 'km_driven')"
   ]
  },
  {
   "cell_type": "code",
   "execution_count": 176,
   "id": "6c50a2ec",
   "metadata": {
    "scrolled": true
   },
   "outputs": [
    {
     "data": {
      "text/plain": [
       "Text(0, 0.5, 'km_driven')"
      ]
     },
     "execution_count": 176,
     "metadata": {},
     "output_type": "execute_result"
    },
    {
     "data": {
      "image/png": "[encoded data removed]",
      "text/plain": [
       "<Figure size 1800x1080 with 2 Axes>"
      ]
     },
     "metadata": {
      "needs_background": "light"
     },
     "output_type": "display_data"
    }
   ],
   "source": [
    "# draw boxplots to visualize outliers\n",
    "import matplotlib.pyplot as plt\n",
    "plt.figure(figsize=(25,15))\n",
    "\n",
    "\n",
    "plt.subplot(2, 2, 1)\n",
    "fig = df_cont.boxplot(column='selling_price')\n",
    "fig.set_title('')\n",
    "fig.set_ylabel('selling_price')\n",
    "\n",
    "\n",
    "plt.subplot(2, 2, 2)\n",
    "fig = df_cont.boxplot(column='km_driven')\n",
    "fig.set_title('')\n",
    "fig.set_ylabel('km_driven')\n",
    "\n",
    "\n",
    "\n"
   ]
  },
  {
   "cell_type": "code",
   "execution_count": 177,
   "id": "7e7f0a2a",
   "metadata": {
    "scrolled": true
   },
   "outputs": [
    {
     "data": {
      "text/plain": [
       "Text(0, 0.5, 'km_driven')"
      ]
     },
     "execution_count": 177,
     "metadata": {},
     "output_type": "execute_result"
    },
    {
     "data": {
      "image/png": "[encoded data removed]",
      "text/plain": [
       "<Figure size 1080x720 with 2 Axes>"
      ]
     },
     "metadata": {
      "needs_background": "light"
     },
     "output_type": "display_data"
    }
   ],
   "source": [
    "# plot histogram to check distribution\n",
    "plt.figure(figsize=(15,10))\n",
    "\n",
    "\n",
    "plt.subplot(2, 2, 1)\n",
    "fig = df_cont.selling_price.hist(bins=10)\n",
    "# fig.set_xlabel('Rainfall')\n",
    "fig.set_ylabel('selling_price')\n",
    "\n",
    "\n",
    "plt.subplot(2, 2, 2)\n",
    "fig = df_cont.km_driven.hist(bins=10)\n",
    "# fig.set_xlabel('Evaporation')\n",
    "fig.set_ylabel('km_driven')\n",
    "\n",
    "\n",
    "\n"
   ]
  },
  {
   "cell_type": "code",
   "execution_count": 178,
   "id": "fff74102",
   "metadata": {},
   "outputs": [],
   "source": [
    "# when we are trying to remove the outlier around 10 percent records dropped so to minimize the data loss\n",
    "#we are not removing outlier. \n"
   ]
  },
  {
   "cell_type": "code",
   "execution_count": 179,
   "id": "1411ed6e",
   "metadata": {},
   "outputs": [],
   "source": [
    "# ploting scatter plot between the continous features and the target varaiable to check if a linear relationship exist or not\n",
    "#plt.scatter()\n",
    "temp_list = list(df_cont.select_dtypes(exclude = ['object']).columns)\n",
    "temp_list.remove('selling_price')"
   ]
  },
  {
   "cell_type": "code",
   "execution_count": 180,
   "id": "80e61a0a",
   "metadata": {},
   "outputs": [],
   "source": [
    "def scatter_plot(col_name):\n",
    "    fig, ax = plt.subplots()\n",
    "    ax.scatter(df_cont[col_name],df_cont.selling_price)\n",
    "    ax.set_xlabel(col_name)\n",
    "    ax.set_ylabel('selling_price')\n",
    "    plt.show()\n",
    "    "
   ]
  },
  {
   "cell_type": "code",
   "execution_count": 181,
   "id": "cab962b0",
   "metadata": {},
   "outputs": [
    {
     "data": {
      "image/png": "[encoded data removed]",
      "text/plain": [
       "<Figure size 432x288 with 1 Axes>"
      ]
     },
     "metadata": {
      "needs_background": "light"
     },
     "output_type": "display_data"
    },
    {
     "data": {
      "image/png": "[encoded data removed]",
      "text/plain": [
       "<Figure size 432x288 with 1 Axes>"
      ]
     },
     "metadata": {
      "needs_background": "light"
     },
     "output_type": "display_data"
    }
   ],
   "source": [
    "for i in temp_list:\n",
    "    scatter_plot(i)"
   ]
  },
  {
   "cell_type": "code",
   "execution_count": 182,
   "id": "517d6a8b",
   "metadata": {},
   "outputs": [],
   "source": [
    "correlation = raw_df.corr()"
   ]
  },
  {
   "cell_type": "code",
   "execution_count": 183,
   "id": "0ab51bc1",
   "metadata": {},
   "outputs": [
    {
     "data": {
      "text/html": [
       "<div>\n",
       "<style scoped>\n",
       "    .dataframe tbody tr th:only-of-type {\n",
       "        vertical-align: middle;\n",
       "    }\n",
       "\n",
       "    .dataframe tbody tr th {\n",
       "        vertical-align: top;\n",
       "    }\n",
       "\n",
       "    .dataframe thead th {\n",
       "        text-align: right;\n",
       "    }\n",
       "</style>\n",
       "<table border=\"1\" class=\"dataframe\">\n",
       "  <thead>\n",
       "    <tr style=\"text-align: right;\">\n",
       "      <th></th>\n",
       "      <th>year</th>\n",
       "      <th>selling_price</th>\n",
       "      <th>km_driven</th>\n",
       "    </tr>\n",
       "  </thead>\n",
       "  <tbody>\n",
       "    <tr>\n",
       "      <th>year</th>\n",
       "      <td>1.000000</td>\n",
       "      <td>0.413922</td>\n",
       "      <td>-0.419688</td>\n",
       "    </tr>\n",
       "    <tr>\n",
       "      <th>selling_price</th>\n",
       "      <td>0.413922</td>\n",
       "      <td>1.000000</td>\n",
       "      <td>-0.192289</td>\n",
       "    </tr>\n",
       "    <tr>\n",
       "      <th>km_driven</th>\n",
       "      <td>-0.419688</td>\n",
       "      <td>-0.192289</td>\n",
       "      <td>1.000000</td>\n",
       "    </tr>\n",
       "  </tbody>\n",
       "</table>\n",
       "</div>"
      ],
      "text/plain": [
       "                   year  selling_price  km_driven\n",
       "year           1.000000       0.413922  -0.419688\n",
       "selling_price  0.413922       1.000000  -0.192289\n",
       "km_driven     -0.419688      -0.192289   1.000000"
      ]
     },
     "execution_count": 183,
     "metadata": {},
     "output_type": "execute_result"
    }
   ],
   "source": [
    "correlation"
   ]
  },
  {
   "cell_type": "code",
   "execution_count": 184,
   "id": "ff9c8af0",
   "metadata": {
    "scrolled": true
   },
   "outputs": [
    {
     "data": {
      "image/png": "[encoded data removed]",
      "text/plain": [
       "<Figure size 1152x864 with 2 Axes>"
      ]
     },
     "metadata": {
      "needs_background": "light"
     },
     "output_type": "display_data"
    }
   ],
   "source": [
    "import seaborn as sns\n",
    "plt.figure(figsize=(16,12))\n",
    "plt.title('Correlation Heatmap')\n",
    "ax = sns.heatmap(correlation, square=True, annot=True, fmt='.2f', linecolor='white')\n",
    "ax.set_xticklabels(ax.get_xticklabels(), rotation=90)\n",
    "ax.set_yticklabels(ax.get_yticklabels(), rotation=30)           \n",
    "plt.show()"
   ]
  },
  {
   "cell_type": "code",
   "execution_count": 185,
   "id": "724e50ff",
   "metadata": {},
   "outputs": [],
   "source": [
    "# identifying the features with very high correlation \n",
    "temp_dict = {}\n",
    "for i in correlation.index:\n",
    "    for j in correlation.columns:\n",
    "        if (correlation.loc[i, j] > 0.75 and correlation.loc[i, j] < 1) or (correlation.loc[i, j] < -0.75):\n",
    "            temp_dict[i] = j"
   ]
  },
  {
   "cell_type": "code",
   "execution_count": 186,
   "id": "d32d534b",
   "metadata": {},
   "outputs": [
    {
     "data": {
      "text/plain": [
       "{}"
      ]
     },
     "execution_count": 186,
     "metadata": {},
     "output_type": "execute_result"
    }
   ],
   "source": [
    "# As we can see here there are no variables with high correlation between them so no pint infinding VIF\n",
    "temp_dict"
   ]
  },
  {
   "cell_type": "code",
   "execution_count": 187,
   "id": "3bc64aa9",
   "metadata": {},
   "outputs": [],
   "source": [
    "# splitting the dataframe into target and features\n",
    "df_final_features = raw_df.drop('selling_price', axis = 1)\n",
    "df_final_target = raw_df['selling_price']"
   ]
  },
  {
   "cell_type": "code",
   "execution_count": 188,
   "id": "3a7c4d7f",
   "metadata": {},
   "outputs": [
    {
     "data": {
      "text/plain": [
       "name            1491\n",
       "year              27\n",
       "km_driven        770\n",
       "fuel               5\n",
       "seller_type        3\n",
       "transmission       2\n",
       "owner              5\n",
       "dtype: int64"
      ]
     },
     "execution_count": 188,
     "metadata": {},
     "output_type": "execute_result"
    }
   ],
   "source": [
    "df_final_features.nunique()"
   ]
  },
  {
   "cell_type": "code",
   "execution_count": 189,
   "id": "13106db5",
   "metadata": {},
   "outputs": [],
   "source": [
    "df_encoded_features = df_final_features"
   ]
  },
  {
   "cell_type": "code",
   "execution_count": 190,
   "id": "7d4b322c",
   "metadata": {},
   "outputs": [],
   "source": [
    "# Will use label encoder for the name coloumn for the other columns get dummies will be used. \n",
    "from sklearn import preprocessing\n",
    "  \n",
    "# label_encoder object knows how to understand word labels.\n",
    "label_encoder = preprocessing.LabelEncoder()\n",
    "  \n",
    "\n",
    "# for i in df_encoded_features.select_dtypes(include = ['object']).columns:\n",
    "df_encoded_features['name']= label_encoder.fit_transform(df_encoded_features['name'])\n",
    "  \n"
   ]
  },
  {
   "cell_type": "code",
   "execution_count": 191,
   "id": "90358c0f",
   "metadata": {
    "scrolled": true
   },
   "outputs": [
    {
     "data": {
      "text/html": [
       "<div>\n",
       "<style scoped>\n",
       "    .dataframe tbody tr th:only-of-type {\n",
       "        vertical-align: middle;\n",
       "    }\n",
       "\n",
       "    .dataframe tbody tr th {\n",
       "        vertical-align: top;\n",
       "    }\n",
       "\n",
       "    .dataframe thead th {\n",
       "        text-align: right;\n",
       "    }\n",
       "</style>\n",
       "<table border=\"1\" class=\"dataframe\">\n",
       "  <thead>\n",
       "    <tr style=\"text-align: right;\">\n",
       "      <th></th>\n",
       "      <th>name</th>\n",
       "      <th>year</th>\n",
       "      <th>km_driven</th>\n",
       "      <th>fuel</th>\n",
       "      <th>seller_type</th>\n",
       "      <th>transmission</th>\n",
       "      <th>owner</th>\n",
       "    </tr>\n",
       "  </thead>\n",
       "  <tbody>\n",
       "    <tr>\n",
       "      <th>0</th>\n",
       "      <td>775</td>\n",
       "      <td>2007</td>\n",
       "      <td>70000</td>\n",
       "      <td>Petrol</td>\n",
       "      <td>Individual</td>\n",
       "      <td>Manual</td>\n",
       "      <td>First Owner</td>\n",
       "    </tr>\n",
       "    <tr>\n",
       "      <th>1</th>\n",
       "      <td>1041</td>\n",
       "      <td>2007</td>\n",
       "      <td>50000</td>\n",
       "      <td>Petrol</td>\n",
       "      <td>Individual</td>\n",
       "      <td>Manual</td>\n",
       "      <td>First Owner</td>\n",
       "    </tr>\n",
       "    <tr>\n",
       "      <th>2</th>\n",
       "      <td>505</td>\n",
       "      <td>2012</td>\n",
       "      <td>100000</td>\n",
       "      <td>Diesel</td>\n",
       "      <td>Individual</td>\n",
       "      <td>Manual</td>\n",
       "      <td>First Owner</td>\n",
       "    </tr>\n",
       "    <tr>\n",
       "      <th>3</th>\n",
       "      <td>118</td>\n",
       "      <td>2017</td>\n",
       "      <td>46000</td>\n",
       "      <td>Petrol</td>\n",
       "      <td>Individual</td>\n",
       "      <td>Manual</td>\n",
       "      <td>First Owner</td>\n",
       "    </tr>\n",
       "    <tr>\n",
       "      <th>4</th>\n",
       "      <td>279</td>\n",
       "      <td>2014</td>\n",
       "      <td>141000</td>\n",
       "      <td>Diesel</td>\n",
       "      <td>Individual</td>\n",
       "      <td>Manual</td>\n",
       "      <td>Second Owner</td>\n",
       "    </tr>\n",
       "  </tbody>\n",
       "</table>\n",
       "</div>"
      ],
      "text/plain": [
       "   name  year  km_driven    fuel seller_type transmission         owner\n",
       "0   775  2007      70000  Petrol  Individual       Manual   First Owner\n",
       "1  1041  2007      50000  Petrol  Individual       Manual   First Owner\n",
       "2   505  2012     100000  Diesel  Individual       Manual   First Owner\n",
       "3   118  2017      46000  Petrol  Individual       Manual   First Owner\n",
       "4   279  2014     141000  Diesel  Individual       Manual  Second Owner"
      ]
     },
     "execution_count": 191,
     "metadata": {},
     "output_type": "execute_result"
    }
   ],
   "source": [
    "df_encoded_features.head()"
   ]
  },
  {
   "cell_type": "code",
   "execution_count": 192,
   "id": "f7b35f0e",
   "metadata": {},
   "outputs": [],
   "source": [
    "# then use pd. get dummies for the other categorical variables\n",
    "dumm_features = pd.get_dummies(df_encoded_features, drop_first=True)    "
   ]
  },
  {
   "cell_type": "code",
   "execution_count": 193,
   "id": "c400d4bc",
   "metadata": {},
   "outputs": [],
   "source": [
    "# now applying min max scaler to scale the varaiables\n",
    "from sklearn import preprocessing as PPC\n",
    "scaler = PPC.MinMaxScaler(feature_range=(0, 1))\n",
    "\n",
    "features_scaled = scaler.fit_transform(dumm_features)"
   ]
  },
  {
   "cell_type": "code",
   "execution_count": 194,
   "id": "d288a7b5",
   "metadata": {},
   "outputs": [],
   "source": [
    "scaled_features = pd.DataFrame(features_scaled, columns = dumm_features.columns)"
   ]
  },
  {
   "cell_type": "code",
   "execution_count": 195,
   "id": "402f9475",
   "metadata": {},
   "outputs": [],
   "source": [
    "# divding the into train-test\n",
    "X = scaled_features[:]\n",
    "y = df_final_target[:]"
   ]
  },
  {
   "cell_type": "code",
   "execution_count": 196,
   "id": "fc707dc8",
   "metadata": {},
   "outputs": [],
   "source": [
    "\n",
    "from sklearn.model_selection import train_test_split\n",
    "\n",
    "X_train, X_test, y_train, y_test = train_test_split(X, y, test_size = 0.3, random_state = 0)"
   ]
  },
  {
   "cell_type": "code",
   "execution_count": 197,
   "id": "7f30a73b",
   "metadata": {},
   "outputs": [
    {
     "data": {
      "text/plain": [
       "LinearRegression()"
      ]
     },
     "execution_count": 197,
     "metadata": {},
     "output_type": "execute_result"
    }
   ],
   "source": [
    "from sklearn.linear_model import LinearRegression\n",
    "reg = LinearRegression()\n",
    "reg.fit(X_train, y_train)"
   ]
  },
  {
   "cell_type": "code",
   "execution_count": 198,
   "id": "22d4c9a9",
   "metadata": {},
   "outputs": [
    {
     "data": {
      "text/plain": [
       "0.4483352209108993"
      ]
     },
     "execution_count": 198,
     "metadata": {},
     "output_type": "execute_result"
    }
   ],
   "source": [
    "# training score \n",
    "reg.score(X_train, y_train)"
   ]
  },
  {
   "cell_type": "code",
   "execution_count": 199,
   "id": "21bc15fa",
   "metadata": {},
   "outputs": [
    {
     "data": {
      "text/plain": [
       "0.4848559358551918"
      ]
     },
     "execution_count": 199,
     "metadata": {},
     "output_type": "execute_result"
    }
   ],
   "source": [
    "reg.score(X_test, y_test)"
   ]
  },
  {
   "cell_type": "code",
   "execution_count": 200,
   "id": "7ac3300c",
   "metadata": {},
   "outputs": [
    {
     "data": {
      "text/plain": [
       "RandomForestRegressor(max_depth=2, random_state=0)"
      ]
     },
     "execution_count": 200,
     "metadata": {},
     "output_type": "execute_result"
    }
   ],
   "source": [
    "# now trying a random forest regressor\n",
    "from sklearn.ensemble import RandomForestRegressor\n",
    "regr = RandomForestRegressor(max_depth=2, random_state=0)\n",
    "regr.fit(X_train, y_train)"
   ]
  },
  {
   "cell_type": "code",
   "execution_count": 201,
   "id": "26771620",
   "metadata": {},
   "outputs": [],
   "source": [
    "from sklearn.metrics import r2_score\n",
    "y_pred = regr.predict(X_test)"
   ]
  },
  {
   "cell_type": "code",
   "execution_count": 202,
   "id": "0407e84b",
   "metadata": {},
   "outputs": [
    {
     "name": "stdout",
     "output_type": "stream",
     "text": [
      "0.48027724260480265\n"
     ]
    }
   ],
   "source": [
    "print(r2_score(y_test,y_pred))  #R2 SCORE ON TEST DATA"
   ]
  },
  {
   "cell_type": "code",
   "execution_count": 203,
   "id": "ea43ab0f",
   "metadata": {},
   "outputs": [],
   "source": [
    "# now trying to calculate the accuracy after doing a lg transformation on the target. since our target variable is highly skewed. \n",
    "import math\n",
    "target_transformed = y_train.apply(lambda x : math.log(x))"
   ]
  },
  {
   "cell_type": "code",
   "execution_count": 204,
   "id": "f3e60369",
   "metadata": {},
   "outputs": [
    {
     "data": {
      "text/plain": [
       "<AxesSubplot:>"
      ]
     },
     "execution_count": 204,
     "metadata": {},
     "output_type": "execute_result"
    },
    {
     "data": {
      "image/png": "[encoded data removed]",
      "text/plain": [
       "<Figure size 432x288 with 1 Axes>"
      ]
     },
     "metadata": {
      "needs_background": "light"
     },
     "output_type": "display_data"
    }
   ],
   "source": [
    "# checking the  ditribution of the transformed target\n",
    "target_transformed.hist()"
   ]
  },
  {
   "cell_type": "code",
   "execution_count": 205,
   "id": "6f4a7027",
   "metadata": {},
   "outputs": [
    {
     "data": {
      "text/plain": [
       "LinearRegression()"
      ]
     },
     "execution_count": 205,
     "metadata": {},
     "output_type": "execute_result"
    }
   ],
   "source": [
    "# now again training a linear regressor model on the transformed target.\n",
    "reg1 = LinearRegression()\n",
    "reg1.fit(X_train, target_transformed)"
   ]
  },
  {
   "cell_type": "code",
   "execution_count": 206,
   "id": "f6dfb391",
   "metadata": {},
   "outputs": [
    {
     "data": {
      "text/plain": [
       "0.6872616547280865"
      ]
     },
     "execution_count": 206,
     "metadata": {},
     "output_type": "execute_result"
    }
   ],
   "source": [
    "# now checking the training accuracy \n",
    "reg1.score(X_train, target_transformed)"
   ]
  },
  {
   "cell_type": "code",
   "execution_count": 207,
   "id": "79e2eb59",
   "metadata": {},
   "outputs": [],
   "source": [
    "# now checking the testing accuracy \n",
    "pred = reg1.predict(X_test)"
   ]
  },
  {
   "cell_type": "code",
   "execution_count": 208,
   "id": "2192d535",
   "metadata": {},
   "outputs": [
    {
     "name": "stdout",
     "output_type": "stream",
     "text": [
      "0.5501668047582422\n"
     ]
    }
   ],
   "source": [
    "import numpy as np\n",
    "print(r2_score(y_test,np.exp(pred)))"
   ]
  },
  {
   "cell_type": "code",
   "execution_count": 209,
   "id": "d7d94860",
   "metadata": {},
   "outputs": [],
   "source": [
    "# now trying to optimize my random forest regressor\n",
    "temp = 0 \n",
    "i = 1\n",
    "while True:\n",
    "    tree = RandomForestRegressor(max_depth = i, random_state = 0)\n",
    "    tree.fit(X_train,y_train)\n",
    "    training_acc1 = tree.score(X_train,y_train)\n",
    "    y_predict = tree.predict(X_test)\n",
    "    score = r2_score(y_test,y_predict)\n",
    "    if score > temp:\n",
    "        temp = score\n",
    "        optimal_depth = i\n",
    "        accuracy = temp\n",
    "        i = i + 1\n",
    "    else:\n",
    "        break\n"
   ]
  },
  {
   "cell_type": "code",
   "execution_count": 210,
   "id": "bfcbf2ae",
   "metadata": {},
   "outputs": [
    {
     "name": "stdout",
     "output_type": "stream",
     "text": [
      "training accuracy  0.9648687800903747\n",
      "optimal_depth   14\n",
      "testing accuracy   0.7532823162638282\n"
     ]
    }
   ],
   "source": [
    "print('training accuracy  {train_acc}'.format(train_acc = training_acc1))\n",
    "print('optimal_depth   {depth}'.format(depth = optimal_depth))\n",
    "print('testing accuracy   {acc}'.format(acc  = accuracy))"
   ]
  },
  {
   "cell_type": "code",
   "execution_count": 211,
   "id": "cbc4ac01",
   "metadata": {},
   "outputs": [],
   "source": [
    "# now will try to change the hyperparameter min sample leaf to decrease the overfitting. \n",
    "temp = 0 \n",
    "i = 1\n",
    "while True:\n",
    "    tree2 = RandomForestRegressor( max_depth = i,min_samples_leaf = 5, random_state = 0)\n",
    "    tree2.fit(X_train,y_train)\n",
    "    training_acc = tree2.score(X_train,y_train)\n",
    "    y_predict = tree2.predict(X_test)\n",
    "    score = r2_score(y_test,y_predict)\n",
    "    if score > temp:\n",
    "        temp = score\n",
    "        optimal_depth1 = i\n",
    "        accuracy1 = temp\n",
    "        i = i + 1\n",
    "    else:\n",
    "        break"
   ]
  },
  {
   "cell_type": "code",
   "execution_count": 212,
   "id": "71664c92",
   "metadata": {},
   "outputs": [
    {
     "name": "stdout",
     "output_type": "stream",
     "text": [
      "training accuracy  0.8049077383617986\n",
      "optimal_depth   16\n",
      "testing accuracy   0.780489905881637\n"
     ]
    }
   ],
   "source": [
    "# as we can see here the with using the min sample leaf as 5 we could decrese the overfitting of our model. Now the training accuracy \n",
    "# is coming as 80.49 % with testing accuracy of 78.04 %\n",
    "print('training accuracy  {train_acc}'.format(train_acc = training_acc))\n",
    "print('optimal_depth   {depth}'.format(depth = optimal_depth1))\n",
    "print('testing accuracy   {acc}'.format(acc  = accuracy1))"
   ]
  }
 ],
 "metadata": {
  "kernelspec": {
   "display_name": "Python 3 (ipykernel)",
   "language": "python",
   "name": "python3"
  },
  "language_info": {
   "codemirror_mode": {
    "name": "ipython",
    "version": 3
   },
   "file_extension": ".py",
   "mimetype": "text/x-python",
   "name": "python",
   "nbconvert_exporter": "python",
   "pygments_lexer": "ipython3",
   "version": "3.9.12"
  }
 },
 "nbformat": 4,
 "nbformat_minor": 5
}
